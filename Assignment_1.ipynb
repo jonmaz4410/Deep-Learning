{
  "nbformat": 4,
  "nbformat_minor": 0,
  "metadata": {
    "colab": {
      "provenance": []
    },
    "kernelspec": {
      "name": "python3",
      "display_name": "Python 3"
    },
    "language_info": {
      "name": "python"
    }
  },
  "cells": [
    {
      "cell_type": "markdown",
      "source": [
        "Name: Jonathan Mazurkiewicz <BR>\n",
        "Z#: Z23641903 <br>\n",
        "Link: https://colab.research.google.com/drive/1iXqPB1Kz0QpdooVLaRzkaL-JZh4iSv7R?usp=sharing <br>\n",
        "Assignment 1\n"
      ],
      "metadata": {
        "id": "st_8GeJ-1vyf"
      }
    },
    {
      "cell_type": "markdown",
      "source": [
        "START OF PROBLEM 1"
      ],
      "metadata": {
        "id": "a6_hxXppj5UK"
      }
    },
    {
      "cell_type": "code",
      "execution_count": null,
      "metadata": {
        "id": "06bxnYfBy1Nb",
        "colab": {
          "base_uri": "https://localhost:8080/",
          "height": 335
        },
        "outputId": "c80cf763-ca38-43b9-93ae-b6c2359a19ea"
      },
      "outputs": [
        {
          "output_type": "display_data",
          "data": {
            "text/plain": [
              "<Figure size 432x288 with 1 Axes>"
            ],
            "image/png": "[encoded data removed]"
          },
          "metadata": {
            "needs_background": "light"
          }
        },
        {
          "output_type": "stream",
          "name": "stdout",
          "text": [
            "The output of the AND function is [0, 0, 0, 1]\n",
            "The output of the OR function is [0, 1, 1, 1]\n",
            "The output of the XOR function is [0, 1, 1, 0]\n"
          ]
        }
      ],
      "source": [
        "import numpy as np\n",
        "import matplotlib.pyplot as plt\n",
        "\n",
        "x = [0,0,1,1]                           #list declaration to be used in scatter plot and output of functions\n",
        "y = [0,1,0,1]\n",
        "\n",
        "\n",
        "output1 = []                             #lists of outputs\n",
        "output2 = []\n",
        "output3 = []\n",
        "\n",
        "def ANDfunction(a,b):                   #function that takes two lists of inputs (one with x-coords, other with y-coords)\n",
        "                                        #and returns the truth value based upon Boolean logic for the AND operationstored in a new list labeled 'output1'\n",
        " for i in range(len(x)):\n",
        "    if x[i] == 0 and y[i] == 0:\n",
        "      output1.append(0)\n",
        "    elif x[i] == 0 and y[i] == 1:\n",
        "      output1.append(0)\n",
        "    elif x[i] == 1 and y[i] == 0:\n",
        "      output1.append(0)\n",
        "    elif x[i] == 1 and y[i] == 1:\n",
        "      output1.append(1)\n",
        "\n",
        "def ORfunction(a,b):                    #function that takes two lists of inputs (one with x-coords, other with y-coords)\n",
        "                                        #and returns the truth value based upon Boolean logic for the OR operationstored in a new list labeled 'output2'\n",
        "\n",
        " for i in range(len(x)):\n",
        "    if x[i] == 0 and y[i] == 0:\n",
        "      output2.append(0)\n",
        "    elif x[i] == 0 and y[i] == 1:\n",
        "      output2.append(1)\n",
        "    elif x[i] == 1 and y[i] == 0:\n",
        "      output2.append(1)\n",
        "    elif x[i] == 1 and y[i] == 1:\n",
        "      output2.append(1)\n",
        "\n",
        "def XORfunction(a,b):                   #function that takes two lists of inputs (one with x-coords, other with y-coords)\n",
        "                                        #and returns the truth value based upon Boolean logic for the XOR operationstored in a new list labeled 'output3'\n",
        "\n",
        " for i in range(len(x)):\n",
        "    if x[i] == 0 and y[i] == 0:\n",
        "      output3.append(0)\n",
        "    elif x[i] == 0 and y[i] == 1:\n",
        "      output3.append(1)\n",
        "    elif x[i] == 1 and y[i] == 0:\n",
        "      output3.append(1)\n",
        "    elif x[i] == 1 and y[i] == 1:\n",
        "      output3.append(0)\n",
        "\n",
        "\n",
        "plt.figure()                            #plotting a graph using matplotlib\n",
        "plt.scatter(x, y)\n",
        "plt.axis([-0.5,1.5, -0.5, 1.5])         #label axes and set graph max/min values\n",
        "plt.xlabel(\"X Label\")\n",
        "plt.ylabel(\"Y Label\")\n",
        "plt.show()\n",
        "\n",
        "ANDfunction(x, y)                       #function calls\n",
        "ORfunction(x, y)\n",
        "XORfunction(x, y)\n",
        "\n",
        "\n",
        "print(\"The output of the AND function is\", output1)         #show program output for verification\n",
        "print(\"The output of the OR function is\", output2)\n",
        "print(\"The output of the XOR function is\", output3)\n",
        "\n",
        "\n",
        "\n",
        "\n"
      ]
    },
    {
      "cell_type": "markdown",
      "source": [
        "Start of PROBLEM 2"
      ],
      "metadata": {
        "id": "y4vTgdj-z-qA"
      }
    },
    {
      "cell_type": "code",
      "source": [
        "import matplotlib.pyplot as plt\n",
        "import sys\n",
        "\n",
        "#------------------------------------------------------------------------------------------------------------------------------------------------------------------------------------------------\n",
        "#function declaration\n",
        "\n",
        "def get_float(prompt):\n",
        "\n",
        "  while True:                     #infinite loop until proper input is accepted or program is exited\n",
        "    try:                          #check if input raises an exception or is the sentinel value to exit program\n",
        "      num = input(prompt)\n",
        "      if (num == 'x'):\n",
        "        sys.exit()\n",
        "      num = float(num)\n",
        "    except ValueError:\n",
        "      print(\"That is not a float. Please try again:   \") #continue gathering input until no exception is raised\n",
        "      continue\n",
        "    return num                                           #return num as a float\n",
        "\n",
        "#------------------------------------------------------------------------------------------------------------------------------------------------------------------------------------------------\n",
        "\n",
        "def training_accuracy(correct_data_points_C1, correct_data_points_C2):   #function definition to check accuracy based on threshold values\n",
        "  for i in range(total_data_points):                                     #iterate through all data points and classify into C1_test or C2_test\n",
        "    if (c3x[i] >= xth and c3y[i] >= yth):\n",
        "      C1_matrix_test.append([c3x[i], c3y[i]])\n",
        "    else:\n",
        "      C2_matrix_test.append([c3x[i], c3y[i]])\n",
        "\n",
        "  for i in range(len(C1_matrix_test)):             #check if the test classification exists in the original classification. If so, increment correct_data_points_C1\n",
        "    if ((C1_matrix_test[i] in C1_matrix)):\n",
        "      correct_data_points_C1 += 1\n",
        "\n",
        "  for i in range(len(C2_matrix_test)):             #check if the test classification exists in the original classification. If so, increment correct_data_points_C2\n",
        "    if ((C2_matrix_test[i] in C2_matrix)):\n",
        "      correct_data_points_C2 += 1\n",
        "\n",
        "  total_correct = correct_data_points_C1 + correct_data_points_C2          #calculate total number correct out of total number of points\n",
        "  accuracy = total_correct / total_data_points\n",
        "  print(\"The classifier accuracy for the selected thresholds is: \", accuracy)\n",
        "  correct_data_points_C1 = 0\n",
        "  correct_data_points_C2 = 0\n",
        "  total_correct = 0\n",
        "  accuracy = 0\n",
        "\n",
        "#------------------------------------------------------------------------------------------------------------------------------------------------------------------------------------------------\n",
        "#variable declaration\n",
        "\n",
        "while True:                     #program actually starts here. in order to have the program work as expected\n",
        "  c1x = [2, 3, 3, 1, 4, 4]      #in between iterations, the arrays needed to be reset each time\n",
        "                                #C1 x and y coords\n",
        "  c1y = [3, 3, 4, 4, 1, 3]\n",
        "\n",
        "  c2x = [0,0,1,1,2,2]           #C2 x and y coords\n",
        "  c2y = [0,3,1,2,1,2]\n",
        "\n",
        "  c3x = c1x + c2x               #array of all x coords\n",
        "  c3y = c1y + c2y               #array of all y coords\n",
        "\n",
        "  xth = 0                       #x threshold and y threshold\n",
        "  yth = 0\n",
        "\n",
        "  total_data_points = len(c3x)    #variables for calculations, accumulator, and percentage\n",
        "  correct_data_points_C1 = 0\n",
        "  correct_data_points_C2 = 0\n",
        "  total_correct = 0\n",
        "  percent_correct = 0\n",
        "  accuracy = 0\n",
        "\n",
        "\n",
        "  C1_matrix_test = []             #matrix declaration to store actual C1, C2 and experimental C1, C2\n",
        "  C2_matrix_test = []\n",
        "  C1_matrix = []\n",
        "  C2_matrix = []\n",
        "\n",
        "  for i in range(len(c1x)):       #turn x, y coords into a matrix for ease of traversal\n",
        "    C1_matrix.append([c1x[i], c1y[i]])\n",
        "    C2_matrix.append([c2x[i], c2y[i]])\n",
        "\n",
        "#------------------------------------------------------------------------------------------------------------------------------------------------------------------------------------------------\n",
        "#main program\n",
        "\n",
        "\n",
        "\n",
        "\n",
        "  plt.scatter(x=c1x, y=c1y, c= 'red', marker= 'o', label = 'C1')       #Labeling C1 and C2 with respective markers and colors\n",
        "  plt.scatter(x=c2x, y=c2y, c = 'blue', marker = 'v', label = 'C2')\n",
        "  plt.axis([-1,5,-1,5])                                                #Setting min and max, axis labels, and legend for the graph\n",
        "  plt.xlabel(\"X Label\")\n",
        "  plt.ylabel(\"Y Label\")\n",
        "  plt.legend()\n",
        "  xth = get_float(\"Enter the threshhold for x:   \")                    #call get_float function to make sure input is float, or 'x' to exit. store result as threshold value\n",
        "  plt.axvline(x= xth, c = 'green')                                     #plot xth as a vertical line\n",
        "  yth = get_float(\"Enter the threshhold for y:   \")                    #call get_float function to make sure input is float, or 'x' to exit. store result as threshold value\n",
        "  plt.axhline(y = yth, c = 'green')                                    #plot xth as a vertical line\n",
        "  training_accuracy(correct_data_points_C1, correct_data_points_C2)    #call training accuracy to check matrixes for accuracy dependent upon the xth and yth values\n",
        "  plt.show()\n",
        "\n",
        "#------------------------------------------------------------------------------------------------------------------------------------------------------------------------------------------------\n",
        "\n",
        "#         NOTE: WHEN CHECKING FOR ACCURACY OF THE PROGRAM -- ALL DATA POINTS >= XTH AND  >= YTH ARE PLACED INTO C1\n"
      ],
      "metadata": {
        "colab": {
          "base_uri": "https://localhost:8080/",
          "height": 1000
        },
        "id": "Hj7XjKx0j0X6",
        "outputId": "09f1fb14-b7f2-414f-d779-cd7d1335dda6"
      },
      "execution_count": null,
      "outputs": [
        {
          "output_type": "stream",
          "name": "stdout",
          "text": [
            "Enter the threshhold for x:   2\n",
            "Enter the threshhold for y:   3\n",
            "The classifier accuracy for the selected thresholds is:  0.8333333333333334\n"
          ]
        },
        {
          "output_type": "display_data",
          "data": {
            "text/plain": [
              "<Figure size 432x288 with 1 Axes>"
            ],
            "image/png": "[encoded data removed]"
          },
          "metadata": {
            "needs_background": "light"
          }
        },
        {
          "output_type": "error",
          "ename": "KeyboardInterrupt",
          "evalue": "ignored",
          "traceback": [
            "\u001b[0;31m---------------------------------------------------------------------------\u001b[0m",
            "\u001b[0;31mKeyboardInterrupt\u001b[0m                         Traceback (most recent call last)",
            "\u001b[0;32m<ipython-input-7-369df18ff911>\u001b[0m in \u001b[0;36m<module>\u001b[0;34m\u001b[0m\n\u001b[1;32m     89\u001b[0m   \u001b[0mplt\u001b[0m\u001b[0;34m.\u001b[0m\u001b[0mylabel\u001b[0m\u001b[0;34m(\u001b[0m\u001b[0;34m\"Y Label\"\u001b[0m\u001b[0;34m)\u001b[0m\u001b[0;34m\u001b[0m\u001b[0;34m\u001b[0m\u001b[0m\n\u001b[1;32m     90\u001b[0m   \u001b[0mplt\u001b[0m\u001b[0;34m.\u001b[0m\u001b[0mlegend\u001b[0m\u001b[0;34m(\u001b[0m\u001b[0;34m)\u001b[0m\u001b[0;34m\u001b[0m\u001b[0;34m\u001b[0m\u001b[0m\n\u001b[0;32m---> 91\u001b[0;31m   \u001b[0mxth\u001b[0m \u001b[0;34m=\u001b[0m \u001b[0mget_float\u001b[0m\u001b[0;34m(\u001b[0m\u001b[0;34m\"Enter the threshhold for x:   \"\u001b[0m\u001b[0;34m)\u001b[0m                    \u001b[0;31m#call get_float function to make sure input is float, or 'x' to exit. store result as threshold value\u001b[0m\u001b[0;34m\u001b[0m\u001b[0;34m\u001b[0m\u001b[0m\n\u001b[0m\u001b[1;32m     92\u001b[0m   \u001b[0mplt\u001b[0m\u001b[0;34m.\u001b[0m\u001b[0maxvline\u001b[0m\u001b[0;34m(\u001b[0m\u001b[0mx\u001b[0m\u001b[0;34m=\u001b[0m \u001b[0mxth\u001b[0m\u001b[0;34m,\u001b[0m \u001b[0mc\u001b[0m \u001b[0;34m=\u001b[0m \u001b[0;34m'green'\u001b[0m\u001b[0;34m)\u001b[0m                                     \u001b[0;31m#plot xth as a vertical line\u001b[0m\u001b[0;34m\u001b[0m\u001b[0;34m\u001b[0m\u001b[0m\n\u001b[1;32m     93\u001b[0m   \u001b[0myth\u001b[0m \u001b[0;34m=\u001b[0m \u001b[0mget_float\u001b[0m\u001b[0;34m(\u001b[0m\u001b[0;34m\"Enter the threshhold for y:   \"\u001b[0m\u001b[0;34m)\u001b[0m                    \u001b[0;31m#call get_float function to make sure input is float, or 'x' to exit. store result as threshold value\u001b[0m\u001b[0;34m\u001b[0m\u001b[0;34m\u001b[0m\u001b[0m\n",
            "\u001b[0;32m<ipython-input-7-369df18ff911>\u001b[0m in \u001b[0;36mget_float\u001b[0;34m(prompt)\u001b[0m\n\u001b[1;32m      9\u001b[0m   \u001b[0;32mwhile\u001b[0m \u001b[0;32mTrue\u001b[0m\u001b[0;34m:\u001b[0m                     \u001b[0;31m#infinite loop until proper input is accepted or program is exited\u001b[0m\u001b[0;34m\u001b[0m\u001b[0;34m\u001b[0m\u001b[0m\n\u001b[1;32m     10\u001b[0m     \u001b[0;32mtry\u001b[0m\u001b[0;34m:\u001b[0m                          \u001b[0;31m#check if input raises an exception or is the sentinel value to exit program\u001b[0m\u001b[0;34m\u001b[0m\u001b[0;34m\u001b[0m\u001b[0m\n\u001b[0;32m---> 11\u001b[0;31m       \u001b[0mnum\u001b[0m \u001b[0;34m=\u001b[0m \u001b[0minput\u001b[0m\u001b[0;34m(\u001b[0m\u001b[0mprompt\u001b[0m\u001b[0;34m)\u001b[0m\u001b[0;34m\u001b[0m\u001b[0;34m\u001b[0m\u001b[0m\n\u001b[0m\u001b[1;32m     12\u001b[0m       \u001b[0;32mif\u001b[0m \u001b[0;34m(\u001b[0m\u001b[0mnum\u001b[0m \u001b[0;34m==\u001b[0m \u001b[0;34m'x'\u001b[0m\u001b[0;34m)\u001b[0m\u001b[0;34m:\u001b[0m\u001b[0;34m\u001b[0m\u001b[0;34m\u001b[0m\u001b[0m\n\u001b[1;32m     13\u001b[0m         \u001b[0msys\u001b[0m\u001b[0;34m.\u001b[0m\u001b[0mexit\u001b[0m\u001b[0;34m(\u001b[0m\u001b[0;34m)\u001b[0m\u001b[0;34m\u001b[0m\u001b[0;34m\u001b[0m\u001b[0m\n",
            "\u001b[0;32m/usr/local/lib/python3.8/dist-packages/ipykernel/kernelbase.py\u001b[0m in \u001b[0;36mraw_input\u001b[0;34m(self, prompt)\u001b[0m\n\u001b[1;32m    858\u001b[0m                 \u001b[0;34m\"raw_input was called, but this frontend does not support input requests.\"\u001b[0m\u001b[0;34m\u001b[0m\u001b[0;34m\u001b[0m\u001b[0m\n\u001b[1;32m    859\u001b[0m             )\n\u001b[0;32m--> 860\u001b[0;31m         return self._input_request(str(prompt),\n\u001b[0m\u001b[1;32m    861\u001b[0m             \u001b[0mself\u001b[0m\u001b[0;34m.\u001b[0m\u001b[0m_parent_ident\u001b[0m\u001b[0;34m,\u001b[0m\u001b[0;34m\u001b[0m\u001b[0;34m\u001b[0m\u001b[0m\n\u001b[1;32m    862\u001b[0m             \u001b[0mself\u001b[0m\u001b[0;34m.\u001b[0m\u001b[0m_parent_header\u001b[0m\u001b[0;34m,\u001b[0m\u001b[0;34m\u001b[0m\u001b[0;34m\u001b[0m\u001b[0m\n",
            "\u001b[0;32m/usr/local/lib/python3.8/dist-packages/ipykernel/kernelbase.py\u001b[0m in \u001b[0;36m_input_request\u001b[0;34m(self, prompt, ident, parent, password)\u001b[0m\n\u001b[1;32m    902\u001b[0m             \u001b[0;32mexcept\u001b[0m \u001b[0mKeyboardInterrupt\u001b[0m\u001b[0;34m:\u001b[0m\u001b[0;34m\u001b[0m\u001b[0;34m\u001b[0m\u001b[0m\n\u001b[1;32m    903\u001b[0m                 \u001b[0;31m# re-raise KeyboardInterrupt, to truncate traceback\u001b[0m\u001b[0;34m\u001b[0m\u001b[0;34m\u001b[0m\u001b[0;34m\u001b[0m\u001b[0m\n\u001b[0;32m--> 904\u001b[0;31m                 \u001b[0;32mraise\u001b[0m \u001b[0mKeyboardInterrupt\u001b[0m\u001b[0;34m(\u001b[0m\u001b[0;34m\"Interrupted by user\"\u001b[0m\u001b[0;34m)\u001b[0m \u001b[0;32mfrom\u001b[0m \u001b[0;32mNone\u001b[0m\u001b[0;34m\u001b[0m\u001b[0;34m\u001b[0m\u001b[0m\n\u001b[0m\u001b[1;32m    905\u001b[0m             \u001b[0;32mexcept\u001b[0m \u001b[0mException\u001b[0m \u001b[0;32mas\u001b[0m \u001b[0me\u001b[0m\u001b[0;34m:\u001b[0m\u001b[0;34m\u001b[0m\u001b[0;34m\u001b[0m\u001b[0m\n\u001b[1;32m    906\u001b[0m                 \u001b[0mself\u001b[0m\u001b[0;34m.\u001b[0m\u001b[0mlog\u001b[0m\u001b[0;34m.\u001b[0m\u001b[0mwarning\u001b[0m\u001b[0;34m(\u001b[0m\u001b[0;34m\"Invalid Message:\"\u001b[0m\u001b[0;34m,\u001b[0m \u001b[0mexc_info\u001b[0m\u001b[0;34m=\u001b[0m\u001b[0;32mTrue\u001b[0m\u001b[0;34m)\u001b[0m\u001b[0;34m\u001b[0m\u001b[0;34m\u001b[0m\u001b[0m\n",
            "\u001b[0;31mKeyboardInterrupt\u001b[0m: Interrupted by user"
          ]
        },
        {
          "output_type": "display_data",
          "data": {
            "text/plain": [
              "<Figure size 432x288 with 1 Axes>"
            ],
            "image/png": "[encoded data removed]"
          },
          "metadata": {
            "needs_background": "light"
          }
        }
      ]
    },
    {
      "cell_type": "markdown",
      "source": [
        "OBSERVATIONS:\n",
        "\n",
        "  I have found that by testing all different combinations, inputting threshold values of <br>\n",
        "  xth = 2, yth = 3<br>\n",
        "  gives the highest value for classification accuracy (0.83) or 10/12"
      ],
      "metadata": {
        "id": "5oFUcMPVkCXn"
      }
    }
  ]
}